{
  "nbformat": 4,
  "nbformat_minor": 0,
  "metadata": {
    "colab": {
      "provenance": []
    },
    "kernelspec": {
      "name": "python3",
      "display_name": "Python 3"
    },
    "language_info": {
      "name": "python"
    }
  },
  "cells": [
    {
      "cell_type": "markdown",
      "source": [
        "## 1. What advantages do Excel spreadsheets have over CSV spreadsheets?"
      ],
      "metadata": {
        "id": "HZTDyTDSatPH"
      }
    },
    {
      "cell_type": "code",
      "execution_count": null,
      "metadata": {
        "id": "Q8rpi9N2ajta"
      },
      "outputs": [],
      "source": [
        "Bottom Line. While Excel (XLS and XLSX) file formats are better for storing more complex data, \n",
        "CSV files are supported by nearly all data upload interfaces. If you are planning to move your data between platforms, \n",
        "export and import it from one interface to another, you might be better off with the CSV file format."
      ]
    },
    {
      "cell_type": "markdown",
      "source": [
        "## 2.What do you pass to csv.reader() and csv.writer() to create reader and writer objects?"
      ],
      "metadata": {
        "id": "MHdeLh32a8_K"
      }
    },
    {
      "cell_type": "code",
      "source": [
        "The csv. writer() function returns a writer object that converts the user's data into a delimited string. \n",
        "This string can later be used to write into CSV files using the writerow() function."
      ],
      "metadata": {
        "id": "ANgMGUVzaq0Z"
      },
      "execution_count": null,
      "outputs": []
    },
    {
      "cell_type": "markdown",
      "source": [
        "## 3. What modes do File objects for reader and writer objects need to be opened in?"
      ],
      "metadata": {
        "id": "KiqCrpx_bGUj"
      }
    },
    {
      "cell_type": "code",
      "source": [
        "'r'\tOpen a file for reading. (default)\n",
        "'w'\tOpen a file for writing. Creates a new file if it does not exist or truncates the file if it exists.\n",
        "'x'\tOpen a file for exclusive creation. If the file already exists, the operation fails."
      ],
      "metadata": {
        "id": "y0yL2lJSarGF"
      },
      "execution_count": null,
      "outputs": []
    },
    {
      "cell_type": "markdown",
      "source": [
        "## 4. What method takes a list argument and writes it to a CSV file?"
      ],
      "metadata": {
        "id": "fjmgRioWbUb_"
      }
    },
    {
      "cell_type": "code",
      "source": [
        "This function takes a list of iterables as parameter and writes each item as a comma separated line of items in the file."
      ],
      "metadata": {
        "id": "2Aou9UFiarIR"
      },
      "execution_count": null,
      "outputs": []
    },
    {
      "cell_type": "markdown",
      "source": [
        "## 5. What do the keyword arguments delimiter and line terminator do?"
      ],
      "metadata": {
        "id": "QOSd3LjVbaAq"
      }
    },
    {
      "cell_type": "code",
      "source": [
        "The delimiter and lineterminator Keyword Arguments\n",
        "This changes the delimiter and line terminator characters in your file. The delimiter is the character that \n",
        "appears between cells on a row. By default, the delimiter for a CSV file is a comma. The line terminator is the \n",
        "character that comes at the end of a row."
      ],
      "metadata": {
        "id": "HDefr1JXarMt"
      },
      "execution_count": null,
      "outputs": []
    },
    {
      "cell_type": "markdown",
      "source": [
        "## 6. What function takes a string of JSON data and returns a Python data structure?"
      ],
      "metadata": {
        "id": "u8PPb0yWbiBS"
      }
    },
    {
      "cell_type": "code",
      "source": [
        "loads() We use the json. loads() method to parse a JSON string and return a Python object such as a dictionary."
      ],
      "metadata": {
        "id": "5Td61ATNarOr"
      },
      "execution_count": null,
      "outputs": []
    }
  ]
}
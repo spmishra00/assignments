{
  "nbformat": 4,
  "nbformat_minor": 0,
  "metadata": {
    "colab": {
      "provenance": []
    },
    "kernelspec": {
      "name": "python3",
      "display_name": "Python 3"
    },
    "language_info": {
      "name": "python"
    }
  },
  "cells": [
    {
      "cell_type": "markdown",
      "source": [
        "## 1. Create an assert statement that throws an AssertionError if the variable spam is a negative integer."
      ],
      "metadata": {
        "id": "eZ_QImDuWyHT"
      }
    },
    {
      "cell_type": "code",
      "execution_count": null,
      "metadata": {
        "id": "yzz5FgOgWHW1"
      },
      "outputs": [],
      "source": [
        "assert(spam >= 10, 'The spam variable is less than 10. ')"
      ]
    },
    {
      "cell_type": "markdown",
      "source": [
        "## 2. Write an assert statement that triggers an AssertionError if the variables eggs and bacon contain strings that are the same as each other, even if their cases are different (that is, 'hello' and 'hello' are considered the same, and 'goodbye' and 'GOODbye' are also considered the same)."
      ],
      "metadata": {
        "id": "cUGq5pn3W4B_"
      }
    },
    {
      "cell_type": "code",
      "source": [
        "assert eggs.lower() != bacon.lower(), 'The eggs and bacon variables are the same!' \n",
        "or assert eggs.upper() != bacon.upper(), 'The eggs and bacon variables are the same!'"
      ],
      "metadata": {
        "id": "UKZJNflhWl_6"
      },
      "execution_count": null,
      "outputs": []
    },
    {
      "cell_type": "markdown",
      "source": [
        "## 3. Create an assert statement that throws an AssertionError every time."
      ],
      "metadata": {
        "id": "133hpW7BXdjt"
      }
    },
    {
      "cell_type": "code",
      "source": [
        "assert False, 'This assertion always triggers.'"
      ],
      "metadata": {
        "id": "Fj9qT8SUWmCr"
      },
      "execution_count": null,
      "outputs": []
    },
    {
      "cell_type": "markdown",
      "source": [
        "## 4. What are the two lines that must be present in your software in order to call logging.debug()?"
      ],
      "metadata": {
        "id": "nvj0XGgrXjND"
      }
    },
    {
      "cell_type": "code",
      "source": [
        "import logging logging.basicConfig(level=logging.DEBUG, format=' %(asctime)s - %(levelname)s - %(message)s')"
      ],
      "metadata": {
        "id": "SrnmfwjRWmHS"
      },
      "execution_count": null,
      "outputs": []
    },
    {
      "cell_type": "markdown",
      "source": [
        "## 5. What are the two lines that your program must have in order to have logging.debug() send a logging message to a file named programLog.txt?"
      ],
      "metadata": {
        "id": "8mAJZfzDXpGw"
      }
    },
    {
      "cell_type": "code",
      "source": [
        "import logging >>>\n",
        "logging.basicConfig(filename='programLog.txt', level=logging.DEBUG, format=' %(asctime)s - %(levelname)s - %(message)s')"
      ],
      "metadata": {
        "id": "PghdCMCtWmJb"
      },
      "execution_count": null,
      "outputs": []
    },
    {
      "cell_type": "markdown",
      "source": [
        "## 6. What are the five levels of logging?"
      ],
      "metadata": {
        "id": "isDQhl1rXxsK"
      }
    },
    {
      "cell_type": "code",
      "source": [
        "DEBUG, INFO, WARNING, ERROR, and CRITICAL"
      ],
      "metadata": {
        "id": "BLV6G0vnWmOJ"
      },
      "execution_count": null,
      "outputs": []
    },
    {
      "cell_type": "markdown",
      "source": [
        "## 7. What line of code would you add to your software to disable all logging messages?"
      ],
      "metadata": {
        "id": "1C2_8WaeX3ZY"
      }
    },
    {
      "cell_type": "code",
      "source": [
        "logging.disable(logging.CRITICAL)"
      ],
      "metadata": {
        "id": "k5bAvYFtWmQa"
      },
      "execution_count": null,
      "outputs": []
    },
    {
      "cell_type": "markdown",
      "source": [
        "## 8.Why is using logging messages better than using print() to display the same message?"
      ],
      "metadata": {
        "id": "M2UbrbgKX9P8"
      }
    },
    {
      "cell_type": "code",
      "source": [
        "You can disable logging messages without removing the logging function calls.\n",
        "You can selectively disable lower-level logging messages. You can create logging messages.\n",
        "Logging messages provides a timestamp."
      ],
      "metadata": {
        "id": "-UJ8XYQkWmUV"
      },
      "execution_count": null,
      "outputs": []
    },
    {
      "cell_type": "markdown",
      "source": [
        "## 9. What are the differences between the Step Over, Step In, and Step Out buttons in the debugger?"
      ],
      "metadata": {
        "id": "kRo1LFnpYCro"
      }
    },
    {
      "cell_type": "code",
      "source": [
        "After you click Go, the debugger will stop when it has reached the end of the program or a line with a breakpoint"
      ],
      "metadata": {
        "id": "NznTKJNOWmW3"
      },
      "execution_count": null,
      "outputs": []
    },
    {
      "cell_type": "markdown",
      "source": [
        "## 10.After you click Continue, when will the debugger stop ?"
      ],
      "metadata": {
        "id": "bB387jT8YIBx"
      }
    },
    {
      "cell_type": "code",
      "source": [
        "Continue execution until the current function returns. Continue execution, only stop when a breakpoint is encountered."
      ],
      "metadata": {
        "id": "WJP0GMzoWma1"
      },
      "execution_count": null,
      "outputs": []
    },
    {
      "cell_type": "markdown",
      "source": [
        "## 11. What is the concept of a breakpoint?"
      ],
      "metadata": {
        "id": "HhE-r7OFYNV1"
      }
    },
    {
      "cell_type": "code",
      "source": [
        "In software development, a breakpoint is an intentional stopping or pausing place in a program, \n",
        "put in place for debugging purposes. It is also sometimes simply referred to as a pause."
      ],
      "metadata": {
        "id": "BhMu4HWHWmd5"
      },
      "execution_count": null,
      "outputs": []
    }
  ]
}
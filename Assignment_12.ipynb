{
  "cells": [
    {
      "cell_type": "markdown",
      "metadata": {
        "id": "tMcDG8yxY-xJ"
      },
      "source": [
        "## 1. In what modes should the PdfFileReader() and PdfFileWriter() File objects will be opened?"
      ]
    },
    {
      "cell_type": "code",
      "execution_count": null,
      "metadata": {
        "id": "qxxmnc_2YwuX"
      },
      "outputs": [],
      "source": [
        "For PdfFileReader() file objects should be opened in rb -> read binary mode,\n",
        "Whereas for PdfFileWriter() file objects should be opened in wb -> write binary mode."
      ]
    },
    {
      "cell_type": "markdown",
      "metadata": {
        "id": "8N_bgsK2ZFJM"
      },
      "source": [
        "## 2. From a PdfFileReader object, how do you get a Page object for page 5?"
      ]
    },
    {
      "cell_type": "code",
      "execution_count": null,
      "metadata": {
        "id": "IY5ecTomY7_m"
      },
      "outputs": [],
      "source": [
        "PdfFileReader class provides a method called getPage(page_no) to get a page object. \n",
        "Calling getPage(4) will return a Page object for page 5 since page 0 is the first page"
      ]
    },
    {
      "cell_type": "markdown",
      "metadata": {
        "id": "6JLDY4F9ZJ14"
      },
      "source": [
        "## 3. What PdfFileReader variable stores the number of pages in the PDF document?"
      ]
    },
    {
      "cell_type": "code",
      "execution_count": null,
      "metadata": {
        "id": "ufC7jt4R4OMW"
      },
      "outputs": [],
      "source": [
        "getNumPages() method of PdfFileReader class stores the no pages in a PDF document"
      ]
    },
    {
      "cell_type": "markdown",
      "metadata": {
        "id": "7sGkXEJ-ZPit"
      },
      "source": [
        "## 4. If a PdfFileReader object’s PDF is encrypted with the password swordfish, what must you do before you can obtain Page objects from it?"
      ]
    },
    {
      "cell_type": "code",
      "execution_count": null,
      "metadata": {
        "id": "pqDPx8_x4w14"
      },
      "outputs": [],
      "source": []
    },
    {
      "cell_type": "markdown",
      "metadata": {
        "id": "ivfkqiAtZZod"
      },
      "source": [
        "## 5. What methods do you use to rotate a page?"
      ]
    },
    {
      "cell_type": "code",
      "execution_count": null,
      "metadata": {
        "id": "rRdpF0rRY8l-"
      },
      "outputs": [],
      "source": [
        "PyPDF2 Package provides 2 methods to rotate a page:"
      ]
    },
    {
      "cell_type": "markdown",
      "metadata": {
        "id": "tnQn2VeBZer4"
      },
      "source": [
        "## 6. What is the difference between a Run object and a Paragraph object?"
      ]
    },
    {
      "cell_type": "code",
      "execution_count": null,
      "metadata": {
        "id": "CwxCS9wqY8uL"
      },
      "outputs": [],
      "source": [
        "3, new Paragraph objects can be added only to the end of the document, \n",
        "and new Run objects can be added only to the end of a Paragraph object."
      ]
    },
    {
      "cell_type": "markdown",
      "metadata": {
        "id": "2-2aR62VZlzP"
      },
      "source": [
        "## 7. How do you obtain a list of Paragraph objects for a Document object that’s stored in a variable named doc?"
      ]
    },
    {
      "cell_type": "code",
      "execution_count": null,
      "metadata": {
        "id": "F2pJsS9aU3X6"
      },
      "outputs": [],
      "source": []
    },
    {
      "cell_type": "markdown",
      "metadata": {
        "id": "SJGKf5CRZucm"
      },
      "source": [
        "## 8. What type of object has bold, underline, italic, strike, and outline variables?"
      ]
    },
    {
      "cell_type": "code",
      "execution_count": null,
      "metadata": {
        "id": "axXhqaFBY8_X"
      },
      "outputs": [],
      "source": [
        "A Run object has bold, underline,italic,strike and outline variables"
      ]
    },
    {
      "cell_type": "markdown",
      "metadata": {
        "id": "kIX562GNZ4ay"
      },
      "source": [
        "## 9. What is the difference between False, True, and None for the bold variable?"
      ]
    },
    {
      "cell_type": "code",
      "execution_count": null,
      "metadata": {
        "id": "_pBm0AmVY9HJ"
      },
      "outputs": [],
      "source": []
    },
    {
      "cell_type": "markdown",
      "metadata": {
        "id": "pHHy4f_gZ8wg"
      },
      "source": [
        "## 10. How do you create a Document object for a new Word document?"
      ]
    },
    {
      "cell_type": "code",
      "execution_count": null,
      "metadata": {
        "id": "1MShBU2WY9QF"
      },
      "outputs": [],
      "source": [
        "By Calling the docx.Document() function."
      ]
    },
    {
      "cell_type": "markdown",
      "metadata": {
        "id": "6avdCKYJaBT4"
      },
      "source": [
        "## 11. How do you add a paragraph with the text 'Hello, there!' to a Document object stored in a variable named doc?"
      ]
    },
    {
      "cell_type": "code",
      "execution_count": null,
      "metadata": {
        "colab": {
          "background_save": true
        },
        "id": "j9qgzzmTY9Y4"
      },
      "outputs": [],
      "source": []
    }
  ],
  "metadata": {
    "colab": {
      "provenance": []
    },
    "kernelspec": {
      "display_name": "Python 3",
      "name": "python3"
    },
    "language_info": {
      "name": "python"
    }
  },
  "nbformat": 4,
  "nbformat_minor": 0
}